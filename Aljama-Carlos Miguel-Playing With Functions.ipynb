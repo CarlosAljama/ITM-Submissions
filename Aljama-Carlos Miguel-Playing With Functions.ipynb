{
 "cells": [
  {
   "cell_type": "markdown",
   "metadata": {},
   "source": [
    "# 190191\n",
    "## Aljama\n",
    "## 2 BS ITE"
   ]
  },
  {
   "cell_type": "code",
   "execution_count": 5,
   "metadata": {},
   "outputs": [
    {
     "name": "stdout",
     "output_type": "stream",
     "text": [
      "Circumference:5\n",
      "Area = 1.98943213649096\n"
     ]
    }
   ],
   "source": [
    "def circumference_to_radius(circumference):\n",
    "    area = (circumference**2)/(4*3.1416)\n",
    "    return area\n",
    "\n",
    "circumference = int(input('Circumference:'))\n",
    "area = circumference_to_radius(circumference)\n",
    "print('Area =', area)"
   ]
  },
  {
   "cell_type": "code",
   "execution_count": 3,
   "metadata": {},
   "outputs": [
    {
     "name": "stdout",
     "output_type": "stream",
     "text": [
      "nevar\n"
     ]
    }
   ],
   "source": [
    "def reverse_string(word):\n",
    "    return word[::-1]\n",
    "\n",
    "print(reverse_string('raven'))"
   ]
  },
  {
   "cell_type": "code",
   "execution_count": 63,
   "metadata": {},
   "outputs": [
    {
     "data": {
      "text/plain": [
       "15"
      ]
     },
     "execution_count": 63,
     "metadata": {},
     "output_type": "execute_result"
    }
   ],
   "source": [
    "def backAddition(x):\n",
    "    i = x\n",
    "    sum = 0\n",
    "    while i > 0:\n",
    "        sum = sum + i\n",
    "        i -= 1\n",
    "    \n",
    "    return sum\n",
    "\n",
    "backAddition(5)\n"
   ]
  },
  {
   "cell_type": "code",
   "execution_count": 11,
   "metadata": {},
   "outputs": [
    {
     "name": "stdout",
     "output_type": "stream",
     "text": [
      "328350 24502500\n"
     ]
    }
   ],
   "source": [
    "def sum_and_square():\n",
    "    a = range(1,100)\n",
    "    d = sum(a)**2\n",
    "    \n",
    "    b = 1\n",
    "    c = 0\n",
    "    for b in a:\n",
    "        c = c + b ** 2\n",
    "        b + 1\n",
    "    \n",
    "    return c , d\n",
    "    \n",
    "print(c,d)"
   ]
  },
  {
   "cell_type": "code",
   "execution_count": 57,
   "metadata": {},
   "outputs": [
    {
     "name": "stdout",
     "output_type": "stream",
     "text": [
      "Centavos: 87\n",
      "0\n",
      "3\n",
      "1\n",
      "0\n",
      "2\n"
     ]
    }
   ],
   "source": [
    "def change(cents):\n",
    "    if cents%100 == 0: \n",
    "        coins100 = cents // 100\n",
    "        coins25 = 0\n",
    "        coins10 = 0\n",
    "        coins5 = 0\n",
    "        coins1 = 0\n",
    "        print(coins100)\n",
    "        print(coins25)\n",
    "        print(coins10)\n",
    "        print(coins5)\n",
    "        print(coins1)\n",
    "        \n",
    "    elif cents%25 == 0:\n",
    "        coins1 = cents // 100\n",
    "        coins25 = (cents%100)//25\n",
    "        coins10 = 0\n",
    "        coins5 = 0\n",
    "        coins1 = 0\n",
    "        print(coins1)\n",
    "        print(coins25)\n",
    "        print(coins10)\n",
    "        print(coins5)\n",
    "        print(coins1)\n",
    "        \n",
    "    elif cents%10 == 0:\n",
    "        coins100 = cents // 100\n",
    "        coins25 = (cents%100)//25\n",
    "        a = cents%25\n",
    "        coins10 = (cents%25)//10\n",
    "       \n",
    "        if a == 5 :\n",
    "            coins5 = 1\n",
    "            coins1 = (cents%5) // 1\n",
    "            print(coins100)\n",
    "            print(coins25)\n",
    "            print(coins10)\n",
    "            print(coins5)\n",
    "            print(coins1)\n",
    "        elif a == 15 :\n",
    "            coins5 = 1\n",
    "            coins1 = (cents%5) // 1\n",
    "            print(coins100)\n",
    "            print(coins25)\n",
    "            print(coins10)\n",
    "            print(coins5)\n",
    "            print(coins1)\n",
    "        else :\n",
    "            coins5 = 0\n",
    "            coins1 = (cents%5) // 1\n",
    "            print(coins100)\n",
    "            print(coins25)\n",
    "            print(coins10)\n",
    "            print(coins5)\n",
    "            print(coins1)\n",
    "        \n",
    "        \n",
    "    elif cents%5 == 0:          \n",
    "        coins100 = cents // 100\n",
    "        coins25 = (cents%100)//25          \n",
    "        coins10 = (cents%25)//10\n",
    "        coins5 = (cents%10)//5\n",
    "        coins1 = 0\n",
    "        print(coins100)\n",
    "        print(coins25)\n",
    "        print(coins10)\n",
    "        print(coins5)\n",
    "        print(coins1)\n",
    "        \n",
    "    else :\n",
    "        coins100 = cents // 100\n",
    "        coins25 = (cents%100)//25\n",
    "        a = cents%25\n",
    "        coins10 = ((cents%25))//10\n",
    "       \n",
    "        if a == 5 :\n",
    "            coins5 = 1\n",
    "            coins1 = (cents%5) // 1\n",
    "            print(coins100)\n",
    "            print(coins25)\n",
    "            print(coins10)\n",
    "            print(coins5)\n",
    "            print(coins1)\n",
    "        elif a == 15 :\n",
    "            coins5 = 1\n",
    "            coins1 = (cents%5) // 1\n",
    "            print(coins100)\n",
    "            print(coins25)\n",
    "            print(coins10)\n",
    "            print(coins5)\n",
    "            print(coins1)\n",
    "        else :\n",
    "            coins5 = 0\n",
    "            coins1 = (cents%5) // 1\n",
    "            print(coins100)\n",
    "            print(coins25)\n",
    "            print(coins10)\n",
    "            print(coins5)\n",
    "            print(coins1)\n",
    "        \n",
    "        \n",
    "centavos = int(input('Centavos: '))\n",
    "c = change(centavos)\n",
    " "
   ]
  }
 ],
 "metadata": {
  "kernelspec": {
   "display_name": "Python 3",
   "language": "python",
   "name": "python3"
  },
  "language_info": {
   "codemirror_mode": {
    "name": "ipython",
    "version": 3
   },
   "file_extension": ".py",
   "mimetype": "text/x-python",
   "name": "python",
   "nbconvert_exporter": "python",
   "pygments_lexer": "ipython3",
   "version": "3.8.5"
  }
 },
 "nbformat": 4,
 "nbformat_minor": 4
}
