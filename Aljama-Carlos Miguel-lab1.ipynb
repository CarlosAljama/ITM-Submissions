{
 "cells": [
  {
   "cell_type": "markdown",
   "metadata": {},
   "source": [
    "# 190191\n",
    "## Aljama\n",
    "## 2 BS ITE"
   ]
  },
  {
   "cell_type": "code",
   "execution_count": 1,
   "metadata": {},
   "outputs": [
    {
     "name": "stdout",
     "output_type": "stream",
     "text": [
      "Enter the amount in US Dollars:5\n",
      "5 US Dollar(s) = 250 Philippine Pesos\n"
     ]
    }
   ],
   "source": [
    "def dollars_to_pesos(conversion):\n",
    "    pesos = conversion * 50\n",
    "    return pesos\n",
    "\n",
    "dollars = int(input('Enter the amount in US Dollars:'))\n",
    "pesos = dollars_to_pesos(dollars)\n",
    "print(dollars, 'US Dollar(s) =', pesos, 'Philippine Pesos')"
   ]
  },
  {
   "cell_type": "code",
   "execution_count": 2,
   "metadata": {},
   "outputs": [
    {
     "name": "stdout",
     "output_type": "stream",
     "text": [
      "a:6\n",
      "b:4\n",
      "10\n",
      "2\n",
      "24\n",
      "1\n",
      "2\n"
     ]
    }
   ],
   "source": [
    "a = int(input('a:'))\n",
    "b = int(input('b:'))\n",
    "print(a+b)\n",
    "print(a-b)\n",
    "print(a*b)\n",
    "print(a//b)\n",
    "print(a%b)"
   ]
  },
  {
   "cell_type": "code",
   "execution_count": 3,
   "metadata": {},
   "outputs": [
    {
     "name": "stdout",
     "output_type": "stream",
     "text": [
      "Enter kg:150\n",
      "Enter cm:180\n",
      "BMI: 46.29629629629629\n"
     ]
    }
   ],
   "source": [
    "def convert_cm_to_m(cm):\n",
    "    return cm/100\n",
    "def compute_bmi(kg, m):\n",
    "    return kg/m**2\n",
    "\n",
    "\n",
    "kg = int(input('Enter kg:'))\n",
    "height = int(input('Enter cm:'))\n",
    "m = convert_cm_to_m(height)\n",
    "bmi = compute_bmi(kg, m)\n",
    "print('BMI:', bmi)"
   ]
  }
 ],
 "metadata": {
  "kernelspec": {
   "display_name": "Python 3",
   "language": "python",
   "name": "python3"
  },
  "language_info": {
   "codemirror_mode": {
    "name": "ipython",
    "version": 3
   },
   "file_extension": ".py",
   "mimetype": "text/x-python",
   "name": "python",
   "nbconvert_exporter": "python",
   "pygments_lexer": "ipython3",
   "version": "3.8.5"
  }
 },
 "nbformat": 4,
 "nbformat_minor": 4
}
