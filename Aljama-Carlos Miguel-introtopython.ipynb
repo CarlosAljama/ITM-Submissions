{
 "cells": [
  {
   "cell_type": "markdown",
   "metadata": {},
   "source": [
    "# 190191\n",
    "## Aljama\n",
    "## 2 BS ITE"
   ]
  },
  {
   "cell_type": "code",
   "execution_count": 5,
   "metadata": {},
   "outputs": [
    {
     "name": "stdout",
     "output_type": "stream",
     "text": [
      "Enter first number:2\n",
      "Enter second number:3\n",
      "Enter third number:4\n",
      "The average is 3.0\n"
     ]
    }
   ],
   "source": [
    "firstnum = int(input('Enter first number:'))\n",
    "secondnum = int(input('Enter second number:'))\n",
    "thirdnum = int(input('Enter third number:'))\n",
    "average = (firstnum + secondnum + thirdnum)/3\n",
    "print('The average is' , average)"
   ]
  },
  {
   "cell_type": "code",
   "execution_count": null,
   "metadata": {},
   "outputs": [],
   "source": []
  }
 ],
 "metadata": {
  "kernelspec": {
   "display_name": "Python 3",
   "language": "python",
   "name": "python3"
  },
  "language_info": {
   "codemirror_mode": {
    "name": "ipython",
    "version": 3
   },
   "file_extension": ".py",
   "mimetype": "text/x-python",
   "name": "python",
   "nbconvert_exporter": "python",
   "pygments_lexer": "ipython3",
   "version": "3.8.5"
  }
 },
 "nbformat": 4,
 "nbformat_minor": 4
}
